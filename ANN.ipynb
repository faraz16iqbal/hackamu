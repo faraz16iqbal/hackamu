{
 "cells": [
  {
   "cell_type": "code",
   "execution_count": 4,
   "id": "bbc1bb79",
   "metadata": {},
   "outputs": [],
   "source": [
    "import numpy as np\n",
    "import pandas as pd\n",
    "from sklearn.linear_model import LinearRegression \n",
    "from sklearn import metrics\n",
    "import math\n",
    "from sklearn import linear_model\n",
    "import matplotlib.pyplot as plt\n",
    "import tensorflow as tf\n",
    "import matplotlib.pyplot as plt\n",
    "from tensorflow.keras import Model\n",
    "from tensorflow.keras import Sequential\n",
    "from tensorflow.keras.optimizers import Adam\n",
    "from sklearn.preprocessing import StandardScaler\n",
    "from tensorflow.keras.layers import Dense, Dropout\n",
    "from sklearn.model_selection import train_test_split\n",
    "from tensorflow.keras.losses import MeanSquaredLogarithmicError\n"
   ]
  },
  {
   "cell_type": "code",
   "execution_count": 2,
   "id": "79588451",
   "metadata": {},
   "outputs": [
    {
     "data": {
      "text/html": [
       "<div>\n",
       "<style scoped>\n",
       "    .dataframe tbody tr th:only-of-type {\n",
       "        vertical-align: middle;\n",
       "    }\n",
       "\n",
       "    .dataframe tbody tr th {\n",
       "        vertical-align: top;\n",
       "    }\n",
       "\n",
       "    .dataframe thead th {\n",
       "        text-align: right;\n",
       "    }\n",
       "</style>\n",
       "<table border=\"1\" class=\"dataframe\">\n",
       "  <thead>\n",
       "    <tr style=\"text-align: right;\">\n",
       "      <th></th>\n",
       "      <th>Country</th>\n",
       "      <th>Commodity</th>\n",
       "      <th>Flow</th>\n",
       "      <th>Quantity</th>\n",
       "      <th>Category</th>\n",
       "      <th>Volume (m^3)</th>\n",
       "      <th>Distance from India (m)</th>\n",
       "      <th>Frieght Cost (USD)</th>\n",
       "    </tr>\n",
       "  </thead>\n",
       "  <tbody>\n",
       "    <tr>\n",
       "      <th>0</th>\n",
       "      <td>Albania</td>\n",
       "      <td>Poultry cuts &amp; offal, except livers, fresh or ...</td>\n",
       "      <td>Export</td>\n",
       "      <td>34</td>\n",
       "      <td>02_meat_and_edible_meat_offal</td>\n",
       "      <td>12</td>\n",
       "      <td>5940.830501</td>\n",
       "      <td>4840.697837</td>\n",
       "    </tr>\n",
       "    <tr>\n",
       "      <th>1</th>\n",
       "      <td>Albania</td>\n",
       "      <td>Poultry cuts &amp; offal, except livers, fresh or ...</td>\n",
       "      <td>Export</td>\n",
       "      <td>23</td>\n",
       "      <td>02_meat_and_edible_meat_offal</td>\n",
       "      <td>12</td>\n",
       "      <td>5940.830501</td>\n",
       "      <td>3069.710823</td>\n",
       "    </tr>\n",
       "    <tr>\n",
       "      <th>2</th>\n",
       "      <td>Albania</td>\n",
       "      <td>Swine meat, salted/dried/smoked not ham/should...</td>\n",
       "      <td>Export</td>\n",
       "      <td>11</td>\n",
       "      <td>02_meat_and_edible_meat_offal</td>\n",
       "      <td>12</td>\n",
       "      <td>5940.830501</td>\n",
       "      <td>1475.822511</td>\n",
       "    </tr>\n",
       "    <tr>\n",
       "      <th>3</th>\n",
       "      <td>Albania</td>\n",
       "      <td>Fowls, domestic, whole, frozen</td>\n",
       "      <td>Export</td>\n",
       "      <td>50</td>\n",
       "      <td>02_meat_and_edible_meat_offal</td>\n",
       "      <td>12</td>\n",
       "      <td>5940.830501</td>\n",
       "      <td>7083.948054</td>\n",
       "    </tr>\n",
       "    <tr>\n",
       "      <th>4</th>\n",
       "      <td>Albania</td>\n",
       "      <td>Meat and edible offal nes fresh, chilled or fr...</td>\n",
       "      <td>Export</td>\n",
       "      <td>71</td>\n",
       "      <td>02_meat_and_edible_meat_offal</td>\n",
       "      <td>12</td>\n",
       "      <td>5940.830501</td>\n",
       "      <td>9976.560176</td>\n",
       "    </tr>\n",
       "  </tbody>\n",
       "</table>\n",
       "</div>"
      ],
      "text/plain": [
       "   Country                                          Commodity    Flow  \\\n",
       "0  Albania  Poultry cuts & offal, except livers, fresh or ...  Export   \n",
       "1  Albania  Poultry cuts & offal, except livers, fresh or ...  Export   \n",
       "2  Albania  Swine meat, salted/dried/smoked not ham/should...  Export   \n",
       "3  Albania                     Fowls, domestic, whole, frozen  Export   \n",
       "4  Albania  Meat and edible offal nes fresh, chilled or fr...  Export   \n",
       "\n",
       "   Quantity                       Category  Volume (m^3)  \\\n",
       "0        34  02_meat_and_edible_meat_offal            12   \n",
       "1        23  02_meat_and_edible_meat_offal            12   \n",
       "2        11  02_meat_and_edible_meat_offal            12   \n",
       "3        50  02_meat_and_edible_meat_offal            12   \n",
       "4        71  02_meat_and_edible_meat_offal            12   \n",
       "\n",
       "   Distance from India (m)  Frieght Cost (USD)  \n",
       "0              5940.830501         4840.697837  \n",
       "1              5940.830501         3069.710823  \n",
       "2              5940.830501         1475.822511  \n",
       "3              5940.830501         7083.948054  \n",
       "4              5940.830501         9976.560176  "
      ]
     },
     "execution_count": 2,
     "metadata": {},
     "output_type": "execute_result"
    }
   ],
   "source": [
    "df1 = pd.read_excel('Dataset_Hackathon.xlsx')\n",
    "df1.head()"
   ]
  },
  {
   "cell_type": "code",
   "execution_count": 5,
   "id": "652d409a",
   "metadata": {},
   "outputs": [
    {
     "data": {
      "text/html": [
       "<div>\n",
       "<style scoped>\n",
       "    .dataframe tbody tr th:only-of-type {\n",
       "        vertical-align: middle;\n",
       "    }\n",
       "\n",
       "    .dataframe tbody tr th {\n",
       "        vertical-align: top;\n",
       "    }\n",
       "\n",
       "    .dataframe thead th {\n",
       "        text-align: right;\n",
       "    }\n",
       "</style>\n",
       "<table border=\"1\" class=\"dataframe\">\n",
       "  <thead>\n",
       "    <tr style=\"text-align: right;\">\n",
       "      <th></th>\n",
       "      <th>Quantity</th>\n",
       "      <th>Volume (m^3)</th>\n",
       "      <th>Distance from India (m)</th>\n",
       "      <th>Frieght Cost (USD)</th>\n",
       "    </tr>\n",
       "  </thead>\n",
       "  <tbody>\n",
       "    <tr>\n",
       "      <th>0</th>\n",
       "      <td>34</td>\n",
       "      <td>12</td>\n",
       "      <td>5940.830501</td>\n",
       "      <td>4840.697837</td>\n",
       "    </tr>\n",
       "    <tr>\n",
       "      <th>1</th>\n",
       "      <td>23</td>\n",
       "      <td>12</td>\n",
       "      <td>5940.830501</td>\n",
       "      <td>3069.710823</td>\n",
       "    </tr>\n",
       "    <tr>\n",
       "      <th>2</th>\n",
       "      <td>11</td>\n",
       "      <td>12</td>\n",
       "      <td>5940.830501</td>\n",
       "      <td>1475.822511</td>\n",
       "    </tr>\n",
       "    <tr>\n",
       "      <th>3</th>\n",
       "      <td>50</td>\n",
       "      <td>12</td>\n",
       "      <td>5940.830501</td>\n",
       "      <td>7083.948054</td>\n",
       "    </tr>\n",
       "    <tr>\n",
       "      <th>4</th>\n",
       "      <td>71</td>\n",
       "      <td>12</td>\n",
       "      <td>5940.830501</td>\n",
       "      <td>9976.560176</td>\n",
       "    </tr>\n",
       "  </tbody>\n",
       "</table>\n",
       "</div>"
      ],
      "text/plain": [
       "   Quantity  Volume (m^3)  Distance from India (m)  Frieght Cost (USD)\n",
       "0        34            12              5940.830501         4840.697837\n",
       "1        23            12              5940.830501         3069.710823\n",
       "2        11            12              5940.830501         1475.822511\n",
       "3        50            12              5940.830501         7083.948054\n",
       "4        71            12              5940.830501         9976.560176"
      ]
     },
     "execution_count": 5,
     "metadata": {},
     "output_type": "execute_result"
    }
   ],
   "source": [
    "# Features\n",
    "X1 = df1.drop(['Country', 'Commodity','Flow','Category'], axis = 1)\n",
    "X1.head()"
   ]
  },
  {
   "cell_type": "code",
   "execution_count": 6,
   "id": "f3b1cdaa",
   "metadata": {},
   "outputs": [
    {
     "data": {
      "image/png": "[encoded data removed]",
      "text/plain": [
       "<Figure size 720x720 with 3 Axes>"
      ]
     },
     "metadata": {
      "needs_background": "light"
     },
     "output_type": "display_data"
    }
   ],
   "source": [
    "columns = X1.drop(\"Frieght Cost (USD)\", axis=\"columns\").columns\n",
    "halfcol = math.ceil(len(columns)/2)\n",
    "fig = plt.figure(figsize=(10,10))\n",
    "\n",
    "for i in range(len(columns)):\n",
    "    plt.subplot(halfcol, halfcol, i+1)\n",
    "    column = columns[i]\n",
    "    plt.xlabel(column)\n",
    "    plt.ylabel(\"Frieght Cost (USD)\")\n",
    "    plt.scatter(X1[column], X1[\"Frieght Cost (USD)\"])\n",
    "\n",
    "fig.tight_layout()"
   ]
  },
  {
   "cell_type": "code",
   "execution_count": 7,
   "id": "3877dad0",
   "metadata": {},
   "outputs": [],
   "source": [
    "X = X1.drop(\"Frieght Cost (USD)\", axis=\"columns\")\n",
    "Y = X1[\"Frieght Cost (USD)\"]\n",
    "X_train, X_test, Y_train, Y_test = train_test_split(X, Y, test_size=0.2)\n"
   ]
  },
  {
   "cell_type": "code",
   "execution_count": 8,
   "id": "066db0f2",
   "metadata": {},
   "outputs": [],
   "source": [
    "def scale_datasets(x_train, x_test):\n",
    "\n",
    "  \"\"\"\n",
    "  Standard Scale test and train data\n",
    "  Z - Score normalization\n",
    "  \"\"\"\n",
    "  standard_scaler = StandardScaler()\n",
    "  x_train_scaled = pd.DataFrame(\n",
    "      standard_scaler.fit_transform(X_train),\n",
    "      columns=x_train.columns\n",
    "  )\n",
    "  x_test_scaled = pd.DataFrame(\n",
    "      standard_scaler.transform(X_test),\n",
    "      columns = X_test.columns\n",
    "  )\n",
    "  return x_train_scaled, x_test_scaled\n",
    "x_train_scaled, x_test_scaled = scale_datasets(X_train, X_test)\n"
   ]
  },
  {
   "cell_type": "code",
   "execution_count": 9,
   "id": "b793b1fa",
   "metadata": {},
   "outputs": [
    {
     "name": "stdout",
     "output_type": "stream",
     "text": [
      "       Quantity  Volume (m^3)  Distance from India (m)\n",
      "2257         72            12             16709.871472\n",
      "47193         6             9              6015.053668\n",
      "13971        18            10              4717.455140\n",
      "54295         1             6             14131.857834\n",
      "75158         4             4             14141.459106\n",
      "...         ...           ...                      ...\n",
      "70965         2             7             15009.493930\n",
      "61260        53             6              5119.252007\n",
      "4054          5            12             11716.501204\n",
      "33897        24            13              2950.787743\n",
      "49440         2             6             15943.888517\n",
      "\n",
      "[65156 rows x 3 columns]\n"
     ]
    }
   ],
   "source": [
    "print (X_train)"
   ]
  },
  {
   "cell_type": "code",
   "execution_count": 10,
   "id": "9ea9ab04",
   "metadata": {},
   "outputs": [],
   "source": [
    "hidden_units1 = 160\n",
    "hidden_units2 = 480\n",
    "hidden_units3 = 256\n",
    "learning_rate = 0.01\n",
    "# Creating model using the Sequential in tensorflow\n",
    "def build_model_using_sequential():\n",
    "  model = Sequential([\n",
    "    Dense(hidden_units1, kernel_initializer='normal', activation='relu'),\n",
    "    Dropout(0.2),\n",
    "    Dense(hidden_units2, kernel_initializer='normal', activation='relu'),\n",
    "    Dropout(0.2),\n",
    "    Dense(hidden_units3, kernel_initializer='normal', activation='relu'),\n",
    "    Dense(1, kernel_initializer='normal', activation='linear')\n",
    "  ])\n",
    "  return model\n",
    "# build the model\n",
    "model = build_model_using_sequential()"
   ]
  },
  {
   "cell_type": "code",
   "execution_count": 11,
   "id": "df871b96",
   "metadata": {},
   "outputs": [
    {
     "name": "stdout",
     "output_type": "stream",
     "text": [
      "Epoch 1/10\n",
      "1833/1833 [==============================] - 14s 6ms/step - loss: 0.2351 - mean_squared_logarithmic_error: 0.2351 - val_loss: 0.0299 - val_mean_squared_logarithmic_error: 0.0299\n",
      "Epoch 2/10\n",
      "1833/1833 [==============================] - 10s 5ms/step - loss: 0.0416 - mean_squared_logarithmic_error: 0.0416 - val_loss: 0.0281 - val_mean_squared_logarithmic_error: 0.0281\n",
      "Epoch 3/10\n",
      "1833/1833 [==============================] - 10s 5ms/step - loss: 0.0380 - mean_squared_logarithmic_error: 0.0380 - val_loss: 0.0224 - val_mean_squared_logarithmic_error: 0.0224\n",
      "Epoch 4/10\n",
      "1833/1833 [==============================] - 10s 5ms/step - loss: 0.0363 - mean_squared_logarithmic_error: 0.0363 - val_loss: 0.0229 - val_mean_squared_logarithmic_error: 0.0229\n",
      "Epoch 5/10\n",
      "1833/1833 [==============================] - 10s 5ms/step - loss: 0.0345 - mean_squared_logarithmic_error: 0.0345 - val_loss: 0.0402 - val_mean_squared_logarithmic_error: 0.0402\n",
      "Epoch 6/10\n",
      "1833/1833 [==============================] - 10s 5ms/step - loss: 0.0331 - mean_squared_logarithmic_error: 0.0331 - val_loss: 0.0213 - val_mean_squared_logarithmic_error: 0.0213\n",
      "Epoch 7/10\n",
      "1833/1833 [==============================] - 10s 5ms/step - loss: 0.0318 - mean_squared_logarithmic_error: 0.0318 - val_loss: 0.0218 - val_mean_squared_logarithmic_error: 0.0218\n",
      "Epoch 8/10\n",
      "1833/1833 [==============================] - 10s 5ms/step - loss: 0.0303 - mean_squared_logarithmic_error: 0.0303 - val_loss: 0.0208 - val_mean_squared_logarithmic_error: 0.0208\n",
      "Epoch 9/10\n",
      "1833/1833 [==============================] - 10s 6ms/step - loss: 0.0297 - mean_squared_logarithmic_error: 0.0297 - val_loss: 0.0224 - val_mean_squared_logarithmic_error: 0.0224\n",
      "Epoch 10/10\n",
      "1833/1833 [==============================] - 11s 6ms/step - loss: 0.0285 - mean_squared_logarithmic_error: 0.0285 - val_loss: 0.0214 - val_mean_squared_logarithmic_error: 0.0214\n"
     ]
    }
   ],
   "source": [
    "# loss function\n",
    "msle = MeanSquaredLogarithmicError()\n",
    "model.compile(\n",
    "    loss=msle, \n",
    "    optimizer=Adam(learning_rate=learning_rate), \n",
    "    metrics=[msle]\n",
    ")\n",
    "# train the model\n",
    "history = model.fit(\n",
    "    x_train_scaled.values, \n",
    "    Y_train.values, \n",
    "    epochs=10, \n",
    "    batch_size=32,\n",
    "    validation_split=0.1\n",
    ")"
   ]
  },
  {
   "cell_type": "code",
   "execution_count": 12,
   "id": "df2d0824",
   "metadata": {},
   "outputs": [
    {
     "data": {
      "image/png": "[encoded data removed]",
      "text/plain": [
       "<Figure size 432x288 with 1 Axes>"
      ]
     },
     "metadata": {
      "needs_background": "light"
     },
     "output_type": "display_data"
    }
   ],
   "source": [
    "def plot_history(history, key):\n",
    "  plt.plot(history.history[key])\n",
    "  plt.plot(history.history['val_'+key])\n",
    "  plt.xlabel(\"Epochs\")\n",
    "  plt.ylabel(key)\n",
    "  plt.legend([key, 'val_'+key])\n",
    "  plt.show()\n",
    "# Plot the history\n",
    "plot_history(history, 'mean_squared_logarithmic_error')"
   ]
  },
  {
   "cell_type": "code",
   "execution_count": 13,
   "id": "b4f7a3ec",
   "metadata": {},
   "outputs": [
    {
     "name": "stdout",
     "output_type": "stream",
     "text": [
      "510/510 [==============================] - 2s 4ms/step\n"
     ]
    }
   ],
   "source": [
    "y_pred = model.predict(x_test_scaled)"
   ]
  },
  {
   "cell_type": "code",
   "execution_count": 14,
   "id": "61fa309e",
   "metadata": {},
   "outputs": [],
   "source": [
    "y_true = Y_test"
   ]
  },
  {
   "cell_type": "markdown",
   "id": "3ad82ade",
   "metadata": {},
   "source": []
  },
  {
   "cell_type": "code",
   "execution_count": 17,
   "id": "b5129355",
   "metadata": {},
   "outputs": [
    {
     "name": "stdout",
     "output_type": "stream",
     "text": [
      "Mean Absolute Error: 221.4067748957973\n",
      "mean_squared_log_error: 0.021858320370981864\n",
      "Mean Squared Error: 159942.36996167278\n",
      "Root Mean Squared Error: 399.9279559641621\n",
      "R2: 0.9968528059828474\n"
     ]
    }
   ],
   "source": [
    "print('Mean Absolute Error:', metrics.mean_absolute_error(y_true, y_pred))  \n",
    "print('mean_squared_log_error:', metrics.mean_squared_log_error(y_true, y_pred))  \n",
    "print('Mean Squared Error:', metrics.mean_squared_error(y_true, y_pred))  \n",
    "print('Root Mean Squared Error:', np.sqrt(metrics.mean_squared_error(y_true, y_pred)))\n",
    "print('R2:', np.sqrt(metrics.r2_score(y_true, y_pred)))\n"
   ]
  },
  {
   "cell_type": "code",
   "execution_count": 79,
   "id": "43b65621",
   "metadata": {},
   "outputs": [],
   "source": [
    "model.save(\"model.h5\")\n",
    " "
   ]
  },
  {
   "cell_type": "code",
   "execution_count": 80,
   "id": "f399a697",
   "metadata": {},
   "outputs": [],
   "source": [
    "input_data = np.array([34,12,5940.83050148322]).reshape(-1, 1)\n",
    "scaler = StandardScaler()\n",
    "scaled_data = scaler.fit_transform(input_data)\n",
    "scaled_data = scaled_data.reshape(1, -1)"
   ]
  },
  {
   "cell_type": "code",
   "execution_count": 81,
   "id": "cf141718",
   "metadata": {},
   "outputs": [
    {
     "name": "stdout",
     "output_type": "stream",
     "text": [
      "1/1 [==============================] - 0s 53ms/step\n"
     ]
    },
    {
     "data": {
      "text/plain": [
       "array([[871.5734]], dtype=float32)"
      ]
     },
     "execution_count": 81,
     "metadata": {},
     "output_type": "execute_result"
    }
   ],
   "source": [
    "model.predict(scaled_data)"
   ]
  },
  {
   "cell_type": "code",
   "execution_count": null,
   "id": "3908be9c",
   "metadata": {},
   "outputs": [],
   "source": [
    "features = [[1,12,7758.83]]\n",
    "\n",
    "model.predict([[1,12,7758.8]])"
   ]
  },
  {
   "cell_type": "code",
   "execution_count": null,
   "id": "f18099a5",
   "metadata": {},
   "outputs": [],
   "source": []
  }
 ],
 "metadata": {
  "kernelspec": {
   "display_name": "Python 3",
   "language": "python",
   "name": "python3"
  },
  "language_info": {
   "codemirror_mode": {
    "name": "ipython",
    "version": 3
   },
   "file_extension": ".py",
   "mimetype": "text/x-python",
   "name": "python",
   "nbconvert_exporter": "python",
   "pygments_lexer": "ipython3",
   "version": "3.8.2"
  },
  "vscode": {
   "interpreter": {
    "hash": "87b30201b0b0dfdf0f55f937990c54a0dd88935d5b032b29c997a77d04843140"
   }
  }
 },
 "nbformat": 4,
 "nbformat_minor": 5
}
